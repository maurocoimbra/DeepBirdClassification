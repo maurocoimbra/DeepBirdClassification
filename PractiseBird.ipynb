{
 "cells": [
  {
   "cell_type": "markdown",
   "id": "e33ecb77",
   "metadata": {},
   "source": [
    "# 1. Imports"
   ]
  },
  {
   "cell_type": "code",
   "execution_count": null,
   "id": "38b4a9cc",
   "metadata": {},
   "outputs": [],
   "source": [
    "import tensorflow as tf\n",
    "import tensorflow_io as tfio\n",
    "import matplotlib.pyplot as plt\n",
    "\n",
    "import random\n",
    "import os"
   ]
  },
  {
   "cell_type": "markdown",
   "id": "eb00864e",
   "metadata": {},
   "source": [
    "# 2. Data Loading and Preprocessing"
   ]
  },
  {
   "cell_type": "markdown",
   "id": "050ef5fb",
   "metadata": {},
   "source": [
    "### 2.1 Data Loading Function (audio file -> tensor)"
   ]
  },
  {
   "cell_type": "code",
   "execution_count": null,
   "id": "0d056eee",
   "metadata": {},
   "outputs": [],
   "source": [
    "def load_wav_default_mono(filename):\n",
    "    new_sr = 22050\n",
    "    \n",
    "    file_contents = tf.io.read_file(filename)\n",
    "    \n",
    "    y, sr = tf.audio.decode_wav(file_contents, desired_channels=1)\n",
    "    \n",
    "    y = tf.squeeze(y, axis=-1)\n",
    "    sr = tf.cast(sr, dtype=tf.int64)\n",
    "    \n",
    "    y = tfio.audio.resample(y, rate_in=sr, rate_out=new_sr)\n",
    "    \n",
    "    return y"
   ]
  },
  {
   "cell_type": "markdown",
   "id": "773e1a7a",
   "metadata": {},
   "source": [
    "### 2.2 Preprocessing Function (tensor -> default length tensor -> mel spectrogram "
   ]
  },
  {
   "cell_type": "code",
   "execution_count": null,
   "id": "671420a1",
   "metadata": {},
   "outputs": [],
   "source": [
    "def preprocess(filename, label):\n",
    "    y = load_wav_default_mono(filename)\n",
    "    \n",
    "    max_len = 66150 # 3s audio for 22050hz\n",
    "    \n",
    "    y = y[:max_len]\n",
    "    try:\n",
    "        start_padding = tf.zeros(random.randint(0, max_len - len(y)), dtype=tf.float32)\n",
    "        end_padding = tf.zeros(max_len - len(y) - len(start_padding), dtype=tf.float32)\n",
    "    except:\n",
    "        start_padding = tf.zeros(max_len - len(y), dtype=tf.float32)\n",
    "        end_padding = tf.zeros(max_len - len(y) - len(start_padding), dtype=tf.float32)\n",
    "        \n",
    "    y = tf.concat([start_padding, y, end_padding], axis=0)\n",
    "    \n",
    "    spectrogram = tfio.audio.spectrogram(y, nfft=512, window=128, stride=256)\n",
    "    mel_spectrogram = tfio.audio.melscale(spectrogram, rate=22050, mels=128, fmin=0, fmax=8000)\n",
    "    dbscale_mel_spectrogram = tfio.audio.dbscale(mel_spectrogram, top_db=80)\n",
    "    expanded_spectrogram = tf.expand_dims(dbscale_mel_spectrogram, axis=2)\n",
    "\n",
    "    \n",
    "    return expanded_spectrogram, label"
   ]
  },
  {
   "cell_type": "markdown",
   "id": "319eda97",
   "metadata": {},
   "source": [
    "### 2.3 Testing preprocess"
   ]
  },
  {
   "cell_type": "code",
   "execution_count": null,
   "id": "58d11af9",
   "metadata": {
    "scrolled": false
   },
   "outputs": [],
   "source": [
    "spectrogram, label = preprocess(os.path.join('data', 'Parsed_Capuchinbird_Clips', 'XC3776-3.wav'), 1)\n",
    "\n",
    "plt.figure(figsize=(30,20))\n",
    "plt.imshow(tf.transpose(spectrogram)[0])\n",
    "#plt.show()"
   ]
  },
  {
   "cell_type": "markdown",
   "id": "cf1635bf",
   "metadata": {},
   "source": [
    "# 3. Creating the Tensorflow Pipeline "
   ]
  },
  {
   "cell_type": "markdown",
   "id": "683f5a46",
   "metadata": {},
   "source": [
    "### 3.1 Saving the folders paths"
   ]
  },
  {
   "cell_type": "code",
   "execution_count": 40,
   "id": "b68a1908",
   "metadata": {},
   "outputs": [],
   "source": [
    "POS = os.path.join('data', 'Parsed_Capuchinbird_Clips')\n",
    "NEG = os.path.join('data', 'Parsed_Not_Capuchinbird_Clips')"
   ]
  },
  {
   "cell_type": "markdown",
   "id": "30abd106",
   "metadata": {},
   "source": [
    "### 3.2 Adding all the filenames to tf Dataset objects"
   ]
  },
  {
   "cell_type": "code",
   "execution_count": 41,
   "id": "fadb7c44",
   "metadata": {},
   "outputs": [],
   "source": [
    "pos = tf.data.Dataset.list_files(POS+'/*.wav')\n",
    "neg = tf.data.Dataset.list_files(NEG+'/*.wav')"
   ]
  },
  {
   "cell_type": "markdown",
   "id": "8f9b442b",
   "metadata": {},
   "source": [
    "### 3.3 \"Zipping\" with the respective labels and concatenating both to a \"data\" varaiable"
   ]
  },
  {
   "cell_type": "code",
   "execution_count": 42,
   "id": "39907aa9",
   "metadata": {},
   "outputs": [],
   "source": [
    "positives = tf.data.Dataset.zip((pos, tf.data.Dataset.from_tensor_slices(tf.ones(len(pos)))))\n",
    "negatives = tf.data.Dataset.zip((neg, tf.data.Dataset.from_tensor_slices(tf.zeros(len(neg)))))\n",
    "data = positives.concatenate(negatives)"
   ]
  },
  {
   "cell_type": "markdown",
   "id": "64d51a2d",
   "metadata": {},
   "source": [
    "### 3.3 Building the pipeline on the data Dataset"
   ]
  },
  {
   "cell_type": "code",
   "execution_count": 43,
   "id": "0e81c1b0",
   "metadata": {
    "scrolled": true
   },
   "outputs": [
    {
     "name": "stdout",
     "output_type": "stream",
     "text": [
      "WARNING:tensorflow:Using a while_loop for converting IO>AudioResample\n"
     ]
    }
   ],
   "source": [
    "data = data.map(preprocess)\n",
    "data = data.cache()\n",
    "data = data.shuffle(buffer_size=1000)\n",
    "data = data.batch(16)\n",
    "data = data.prefetch(8)"
   ]
  },
  {
   "cell_type": "markdown",
   "id": "e9ca15ac",
   "metadata": {},
   "source": [
    "### 3.4 Partitioning into train and test datasets"
   ]
  },
  {
   "cell_type": "code",
   "execution_count": 44,
   "id": "f36a7466",
   "metadata": {},
   "outputs": [
    {
     "data": {
      "text/plain": [
       "35.699999999999996"
      ]
     },
     "execution_count": 44,
     "metadata": {},
     "output_type": "execute_result"
    }
   ],
   "source": [
    "len(data)*.7"
   ]
  },
  {
   "cell_type": "code",
   "execution_count": 45,
   "id": "cfee673b",
   "metadata": {},
   "outputs": [],
   "source": [
    "train = data.take(36)\n",
    "test = data.skip(36).take(15)"
   ]
  },
  {
   "cell_type": "markdown",
   "id": "5a98e8de",
   "metadata": {},
   "source": [
    "### 3.5 Viewing the shape of the input for the model"
   ]
  },
  {
   "cell_type": "code",
   "execution_count": 46,
   "id": "6d58eb0b",
   "metadata": {},
   "outputs": [
    {
     "data": {
      "text/plain": [
       "(16, 259, 128, 1)"
      ]
     },
     "execution_count": 46,
     "metadata": {},
     "output_type": "execute_result"
    }
   ],
   "source": [
    "samples, labels = train.as_numpy_iterator().next()\n",
    "samples.shape"
   ]
  },
  {
   "cell_type": "markdown",
   "id": "6fd704e2",
   "metadata": {},
   "source": [
    "# 4. Building the Deep Learning Model"
   ]
  },
  {
   "cell_type": "code",
   "execution_count": 63,
   "id": "73c19d02",
   "metadata": {},
   "outputs": [],
   "source": [
    "from tensorflow.keras.models import Sequential\n",
    "from tensorflow.keras.layers import Conv2D, Dense, Flatten, Dropout"
   ]
  },
  {
   "cell_type": "markdown",
   "id": "e5f28795",
   "metadata": {},
   "source": [
    "### 4.1 Adding layers"
   ]
  },
  {
   "cell_type": "code",
   "execution_count": 64,
   "id": "c3d86317",
   "metadata": {},
   "outputs": [],
   "source": [
    "model = Sequential()\n",
    "model.add(Conv2D(16, (3,3), activation='relu', input_shape=(259, 128, 1)))\n",
    "model.add(Conv2D(16, (3,3), activation='relu'))\n",
    "model.add(Flatten())\n",
    "model.add(Dense(128, activation='relu'))\n",
    "model.add(Dense(64, activation='relu'))\n",
    "model.add(Dropout(0.5))\n",
    "model.add(Dense(1, activation='sigmoid'))"
   ]
  },
  {
   "cell_type": "markdown",
   "id": "3b846043",
   "metadata": {},
   "source": [
    "### 4.2 Compile and viewing the model"
   ]
  },
  {
   "cell_type": "code",
   "execution_count": 65,
   "id": "ae34b145",
   "metadata": {},
   "outputs": [],
   "source": [
    "model.compile('Adam', loss='BinaryCrossentropy', metrics=[tf.keras.metrics.Recall(), tf.keras.metrics.Precision()])"
   ]
  },
  {
   "cell_type": "code",
   "execution_count": 66,
   "id": "c4f316db",
   "metadata": {
    "scrolled": true
   },
   "outputs": [
    {
     "name": "stdout",
     "output_type": "stream",
     "text": [
      "Model: \"sequential_6\"\n",
      "_________________________________________________________________\n",
      " Layer (type)                Output Shape              Param #   \n",
      "=================================================================\n",
      " conv2d_12 (Conv2D)          (None, 257, 126, 16)      160       \n",
      "                                                                 \n",
      " conv2d_13 (Conv2D)          (None, 255, 124, 16)      2320      \n",
      "                                                                 \n",
      " flatten_5 (Flatten)         (None, 505920)            0         \n",
      "                                                                 \n",
      " dense_12 (Dense)            (None, 128)               64757888  \n",
      "                                                                 \n",
      " dense_13 (Dense)            (None, 64)                8256      \n",
      "                                                                 \n",
      " dropout (Dropout)           (None, 64)                0         \n",
      "                                                                 \n",
      " dense_14 (Dense)            (None, 1)                 65        \n",
      "                                                                 \n",
      "=================================================================\n",
      "Total params: 64,768,689\n",
      "Trainable params: 64,768,689\n",
      "Non-trainable params: 0\n",
      "_________________________________________________________________\n"
     ]
    }
   ],
   "source": [
    "model.summary()"
   ]
  },
  {
   "cell_type": "markdown",
   "id": "910210c0",
   "metadata": {},
   "source": [
    "### 4.3 Training and Saving"
   ]
  },
  {
   "cell_type": "code",
   "execution_count": 67,
   "id": "5f2d4ff3",
   "metadata": {
    "scrolled": true
   },
   "outputs": [
    {
     "name": "stdout",
     "output_type": "stream",
     "text": [
      "Epoch 1/4\n",
      "36/36 [==============================] - 13s 344ms/step - loss: 26.3772 - recall_3: 0.6364 - precision_3: 0.5765 - val_loss: 0.2620 - val_recall_3: 0.9492 - val_precision_3: 0.8889\n",
      "Epoch 2/4\n",
      "36/36 [==============================] - 12s 340ms/step - loss: 0.3799 - recall_3: 0.8385 - precision_3: 0.9000 - val_loss: 0.0652 - val_recall_3: 0.8971 - val_precision_3: 1.0000\n",
      "Epoch 3/4\n",
      "36/36 [==============================] - 12s 337ms/step - loss: 0.2617 - recall_3: 0.8784 - precision_3: 0.9155 - val_loss: 0.0157 - val_recall_3: 0.9863 - val_precision_3: 0.9863\n",
      "Epoch 4/4\n",
      "36/36 [==============================] - 12s 338ms/step - loss: 0.0699 - recall_3: 0.9484 - precision_3: 0.9671 - val_loss: 0.0331 - val_recall_3: 0.9831 - val_precision_3: 0.9831\n"
     ]
    }
   ],
   "source": [
    "hist = model.fit(train, epochs=4, validation_data=test)"
   ]
  },
  {
   "cell_type": "code",
   "execution_count": null,
   "id": "966107bd",
   "metadata": {},
   "outputs": [],
   "source": [
    "# model.save('model_practise')\n",
    "\n",
    "# with open('/trainHistoryDict', 'wb') as file_pi:\n",
    "#         pickle.dump(hist.history, file_pi)"
   ]
  },
  {
   "cell_type": "code",
   "execution_count": 77,
   "id": "caf21e8b",
   "metadata": {},
   "outputs": [
    {
     "name": "stdout",
     "output_type": "stream",
     "text": [
      "dict_keys(['loss', 'recall_3', 'precision_3', 'val_loss', 'val_recall_3', 'val_precision_3'])\n"
     ]
    }
   ],
   "source": [
    "print(hist.history.keys())"
   ]
  },
  {
   "cell_type": "code",
   "execution_count": 70,
   "id": "98f263ad",
   "metadata": {
    "scrolled": true
   },
   "outputs": [
    {
     "data": {
      "image/png": "[encoded data removed]",
      "text/plain": [
       "<Figure size 432x288 with 1 Axes>"
      ]
     },
     "metadata": {
      "needs_background": "light"
     },
     "output_type": "display_data"
    }
   ],
   "source": [
    "plt.title('Loss')\n",
    "plt.plot(hist.history['loss'], 'r')\n",
    "plt.plot(hist.history['val_loss'], 'b')\n",
    "plt.show()"
   ]
  },
  {
   "cell_type": "code",
   "execution_count": 79,
   "id": "ebf560a3",
   "metadata": {
    "scrolled": true
   },
   "outputs": [
    {
     "data": {
      "image/png": "[encoded data removed]",
      "text/plain": [
       "<Figure size 432x288 with 1 Axes>"
      ]
     },
     "metadata": {
      "needs_background": "light"
     },
     "output_type": "display_data"
    }
   ],
   "source": [
    "plt.title('Precision')\n",
    "plt.plot(hist.history['precision_3'], 'r')\n",
    "plt.plot(hist.history['val_precision_3'], 'b')\n",
    "plt.show()"
   ]
  },
  {
   "cell_type": "code",
   "execution_count": 78,
   "id": "7a621e55",
   "metadata": {},
   "outputs": [
    {
     "data": {
      "image/png": "[encoded data removed]",
      "text/plain": [
       "<Figure size 432x288 with 1 Axes>"
      ]
     },
     "metadata": {
      "needs_background": "light"
     },
     "output_type": "display_data"
    }
   ],
   "source": [
    "plt.title('Recall')\n",
    "plt.plot(hist.history['recall_3'], 'r')\n",
    "plt.plot(hist.history['val_recall_3'], 'b')\n",
    "plt.show()"
   ]
  },
  {
   "cell_type": "markdown",
   "id": "24062371",
   "metadata": {},
   "source": [
    "# 5. Predictions for testing"
   ]
  },
  {
   "cell_type": "markdown",
   "id": "01e2351c",
   "metadata": {},
   "source": [
    "### 5.1 Getting a batch from the test dataset"
   ]
  },
  {
   "cell_type": "code",
   "execution_count": 90,
   "id": "c8a06f7c",
   "metadata": {},
   "outputs": [],
   "source": [
    "x_test, y_test = test.as_numpy_iterator().next()"
   ]
  },
  {
   "cell_type": "markdown",
   "id": "ba5a755d",
   "metadata": {},
   "source": [
    "### 5.2 Making predictions on the batch"
   ]
  },
  {
   "cell_type": "code",
   "execution_count": 91,
   "id": "015ae59f",
   "metadata": {},
   "outputs": [
    {
     "name": "stdout",
     "output_type": "stream",
     "text": [
      "1/1 [==============================] - 0s 48ms/step\n"
     ]
    }
   ],
   "source": [
    "yhat = model.predict(x_test)"
   ]
  },
  {
   "cell_type": "code",
   "execution_count": 92,
   "id": "c07d3335",
   "metadata": {},
   "outputs": [
    {
     "data": {
      "text/plain": [
       "array([[6.5128607e-16],\n",
       "       [9.4111182e-19],\n",
       "       [1.0000000e+00],\n",
       "       [1.0753854e-02],\n",
       "       [9.9999976e-01],\n",
       "       [1.0000000e+00],\n",
       "       [2.5122135e-10],\n",
       "       [9.9760276e-01],\n",
       "       [1.3052126e-04],\n",
       "       [1.0000000e+00],\n",
       "       [1.1365690e-03],\n",
       "       [4.0485177e-13],\n",
       "       [7.1047907e-08],\n",
       "       [1.0000000e+00],\n",
       "       [7.4969462e-06],\n",
       "       [2.7361806e-19]], dtype=float32)"
      ]
     },
     "execution_count": 92,
     "metadata": {},
     "output_type": "execute_result"
    }
   ],
   "source": [
    "yhat"
   ]
  },
  {
   "cell_type": "code",
   "execution_count": 93,
   "id": "0f37d7c8",
   "metadata": {},
   "outputs": [],
   "source": [
    "yhat = [1 if prediction > 0.5 else 0 for prediction in yhat]"
   ]
  },
  {
   "cell_type": "code",
   "execution_count": 94,
   "id": "67cff69e",
   "metadata": {},
   "outputs": [
    {
     "name": "stdout",
     "output_type": "stream",
     "text": [
      "Data: 0 / Prediction: 0\n",
      "Data: 0 / Prediction: 0\n",
      "Data: 1 / Prediction: 1\n",
      "Data: 0 / Prediction: 0\n",
      "Data: 1 / Prediction: 1\n",
      "Data: 1 / Prediction: 1\n",
      "Data: 0 / Prediction: 0\n",
      "Data: 1 / Prediction: 1\n",
      "Data: 0 / Prediction: 0\n",
      "Data: 1 / Prediction: 1\n",
      "Data: 0 / Prediction: 0\n",
      "Data: 0 / Prediction: 0\n",
      "Data: 0 / Prediction: 0\n",
      "Data: 1 / Prediction: 1\n",
      "Data: 0 / Prediction: 0\n",
      "Data: 0 / Prediction: 0\n"
     ]
    }
   ],
   "source": [
    "for i in range(len(yhat)):\n",
    "    print('Data: '+ str(y_test[i].astype(int)) + ' / Prediction: ' + str(yhat[i])) "
   ]
  },
  {
   "cell_type": "code",
   "execution_count": 86,
   "id": "ee126538",
   "metadata": {},
   "outputs": [
    {
     "data": {
      "text/plain": [
       "array([1, 0, 1, 1, 0, 0, 0, 0, 0, 1, 0, 0, 0, 1, 1, 0])"
      ]
     },
     "execution_count": 86,
     "metadata": {},
     "output_type": "execute_result"
    }
   ],
   "source": [
    "y_test.astype(int)"
   ]
  },
  {
   "cell_type": "markdown",
   "id": "a590169f",
   "metadata": {},
   "source": [
    "# 6. Working on the Forest Data"
   ]
  },
  {
   "cell_type": "markdown",
   "id": "ddf1d496",
   "metadata": {},
   "source": [
    "### 6.1 Adapting the functions for mp3 files"
   ]
  },
  {
   "cell_type": "code",
   "execution_count": 123,
   "id": "e18626cf",
   "metadata": {},
   "outputs": [],
   "source": [
    "def load_mp3_default_mono(filename):\n",
    "    new_sr = 22050\n",
    "    \n",
    "    file_contents = tfio.audio.AudioIOTensor(filename)\n",
    "    \n",
    "    y = file_contents.to_tensor()\n",
    "    y = tf.math.reduce_sum(y, axis=1) / 2\n",
    "    \n",
    "    sr = file_contents.rate\n",
    "    sr = tf.cast(sr, dtype=tf.int64)\n",
    "    \n",
    "    y = tfio.audio.resample(y, rate_in=sr, rate_out=new_sr)\n",
    "    \n",
    "    return y\n",
    "\n",
    "def preprocess_mp3(sample, index):\n",
    "    y = sample[0]\n",
    "    \n",
    "    max_len = 66150 # 3s audio for 22050hz\n",
    "    \n",
    "    y = y[:max_len]\n",
    "    try:\n",
    "        start_padding = tf.zeros(random.randint(0, max_len - len(y)), dtype=tf.float32)\n",
    "        end_padding = tf.zeros(max_len - len(y) - len(start_padding), dtype=tf.float32)\n",
    "    except:\n",
    "        start_padding = tf.zeros(max_len - len(y), dtype=tf.float32)\n",
    "        end_padding = tf.zeros(max_len - len(y) - len(start_padding), dtype=tf.float32)\n",
    "        \n",
    "    y = tf.concat([start_padding, y, end_padding], axis=0)\n",
    "    \n",
    "    spectrogram = tfio.audio.spectrogram(y, nfft=512, window=128, stride=256)\n",
    "    mel_spectrogram = tfio.audio.melscale(spectrogram, rate=22050, mels=128, fmin=0, fmax=8000)\n",
    "    dbscale_mel_spectrogram = tfio.audio.dbscale(mel_spectrogram, top_db=80)\n",
    "    expanded_spectrogram = tf.expand_dims(dbscale_mel_spectrogram, axis=2)\n",
    "\n",
    "    \n",
    "    return expanded_spectrogram"
   ]
  },
  {
   "cell_type": "markdown",
   "id": "bde2ed70",
   "metadata": {},
   "source": [
    "### 6.2 Converting a large audio file into Windows and making predictions"
   ]
  },
  {
   "cell_type": "code",
   "execution_count": 97,
   "id": "6e8499b4",
   "metadata": {},
   "outputs": [],
   "source": [
    "mp3 = os.path.join('data', 'Forest Recordings', 'recording_00.mp3')"
   ]
  },
  {
   "cell_type": "code",
   "execution_count": 100,
   "id": "109e5d39",
   "metadata": {
    "scrolled": true
   },
   "outputs": [],
   "source": [
    "y = load_mp3_default_mono(mp3)"
   ]
  },
  {
   "cell_type": "code",
   "execution_count": 119,
   "id": "8f7f3e5d",
   "metadata": {},
   "outputs": [],
   "source": [
    "audio_slices = tf.keras.utils.timeseries_dataset_from_array(y, y, sequence_length=66150,\n",
    "                                                     sequence_stride=66150, batch_size=1)\n",
    "audio_slices = audio_slices.map(preprocess_mp3)\n",
    "audio_slices = audio_slices.batch(64)"
   ]
  },
  {
   "cell_type": "code",
   "execution_count": 141,
   "id": "96988538",
   "metadata": {
    "scrolled": true
   },
   "outputs": [
    {
     "name": "stdout",
     "output_type": "stream",
     "text": [
      "1/1 [==============================] - 0s 239ms/step\n"
     ]
    }
   ],
   "source": [
    "yhat = model.predict(audio_slices)\n",
    "yhat = [1 if prediction > 0.99 else 0 for prediction in yhat]"
   ]
  },
  {
   "cell_type": "code",
   "execution_count": 142,
   "id": "7aec556a",
   "metadata": {
    "scrolled": true
   },
   "outputs": [
    {
     "data": {
      "text/plain": [
       "<tf.Tensor: shape=(), dtype=int32, numpy=5>"
      ]
     },
     "execution_count": 142,
     "metadata": {},
     "output_type": "execute_result"
    }
   ],
   "source": [
    "tf.math.reduce_sum(yhat)"
   ]
  },
  {
   "cell_type": "markdown",
   "id": "8d281dc9",
   "metadata": {},
   "source": [
    "### 6.3 Grouping Consecutive Detections"
   ]
  },
  {
   "cell_type": "code",
   "execution_count": 143,
   "id": "b5664a76",
   "metadata": {},
   "outputs": [],
   "source": [
    "from itertools import groupby"
   ]
  },
  {
   "cell_type": "code",
   "execution_count": 144,
   "id": "3ee9b25c",
   "metadata": {},
   "outputs": [],
   "source": [
    "yhat = [key for key, group in groupby(yhat)]"
   ]
  },
  {
   "cell_type": "code",
   "execution_count": 145,
   "id": "e2073f31",
   "metadata": {},
   "outputs": [
    {
     "data": {
      "text/plain": [
       "[0, 1, 0, 1, 0, 1, 0, 1, 0, 1, 0]"
      ]
     },
     "execution_count": 145,
     "metadata": {},
     "output_type": "execute_result"
    }
   ],
   "source": [
    "yhat"
   ]
  },
  {
   "cell_type": "code",
   "execution_count": 146,
   "id": "d54f080b",
   "metadata": {},
   "outputs": [
    {
     "data": {
      "text/plain": [
       "<tf.Tensor: shape=(), dtype=int32, numpy=5>"
      ]
     },
     "execution_count": 146,
     "metadata": {},
     "output_type": "execute_result"
    }
   ],
   "source": [
    "tf.math.reduce_sum(yhat)"
   ]
  },
  {
   "cell_type": "markdown",
   "id": "74f7b78d",
   "metadata": {},
   "source": [
    "# 7. Predictions on Forest Recordings"
   ]
  },
  {
   "cell_type": "markdown",
   "id": "3ec5b43e",
   "metadata": {},
   "source": [
    "### 7.1 Big Function for everything"
   ]
  },
  {
   "cell_type": "code",
   "execution_count": 218,
   "id": "9b6e554d",
   "metadata": {},
   "outputs": [],
   "source": [
    "def predict(filename, predictions):\n",
    "    y = load_mp3_default_mono(filename)\n",
    "    \n",
    "    audio_slices = tf.keras.utils.timeseries_dataset_from_array(y, y, sequence_length=66150,\n",
    "                                                     sequence_stride=66150, batch_size=1)\n",
    "    audio_slices = audio_slices.map(preprocess_mp3)\n",
    "    audio_slices = audio_slices.batch(64)\n",
    "    \n",
    "    predictions = model.predict(audio_slices)\n",
    "    predictions = [1 if prediction > 0.99 else 0 for prediction in predictions]\n",
    "    \n",
    "    predictions = [key for key, group in groupby(predictions)]\n",
    "    predictions = int(tf.math.reduce_sum(predictions))\n",
    "    \n",
    "    return filename, predictions"
   ]
  },
  {
   "cell_type": "code",
   "execution_count": 219,
   "id": "9290250a",
   "metadata": {
    "scrolled": false
   },
   "outputs": [
    {
     "name": "stdout",
     "output_type": "stream",
     "text": [
      "1/1 [==============================] - 0s 273ms/step\n",
      "5\n"
     ]
    }
   ],
   "source": [
    "predictions = 0\n",
    "\n",
    "mp2, predictions = predict(mp3, predictions)\n",
    "print(predictions)"
   ]
  },
  {
   "cell_type": "markdown",
   "id": "a11ba97f",
   "metadata": {},
   "source": [
    "### 7.2 Makings the Predictions"
   ]
  },
  {
   "cell_type": "code",
   "execution_count": 164,
   "id": "60be41c1",
   "metadata": {},
   "outputs": [],
   "source": [
    "# RES = os.path.join('data', 'Forest Recordings')\n",
    "# res = tf.data.Dataset.list_files(RES + '/*.mp3')\n",
    "# results = tf.data.Dataset.zip((res, tf.data.Dataset.from_tensor_slices(tf.zeros(len(res)))))\n",
    "\n",
    "# results = results.map(predict)"
   ]
  },
  {
   "cell_type": "code",
   "execution_count": 212,
   "id": "e9f9dc06",
   "metadata": {
    "scrolled": true
   },
   "outputs": [
    {
     "name": "stdout",
     "output_type": "stream",
     "text": [
      "1/1 [==============================] - 0s 287ms/step\n",
      "1/1 [==============================] - 0s 275ms/step\n",
      "1/1 [==============================] - 0s 274ms/step\n",
      "1/1 [==============================] - 0s 277ms/step\n",
      "1/1 [==============================] - 0s 272ms/step\n",
      "1/1 [==============================] - 0s 267ms/step\n",
      "1/1 [==============================] - 0s 270ms/step\n",
      "1/1 [==============================] - 0s 276ms/step\n",
      "1/1 [==============================] - 0s 276ms/step\n",
      "1/1 [==============================] - 0s 275ms/step\n",
      "1/1 [==============================] - 0s 268ms/step\n",
      "1/1 [==============================] - 0s 273ms/step\n",
      "1/1 [==============================] - 0s 273ms/step\n",
      "1/1 [==============================] - 0s 275ms/step\n",
      "1/1 [==============================] - 0s 274ms/step\n",
      "1/1 [==============================] - 0s 273ms/step\n",
      "1/1 [==============================] - 0s 277ms/step\n",
      "1/1 [==============================] - 0s 276ms/step\n",
      "1/1 [==============================] - 0s 270ms/step\n",
      "1/1 [==============================] - 0s 268ms/step\n",
      "1/1 [==============================] - 0s 273ms/step\n",
      "1/1 [==============================] - 0s 269ms/step\n",
      "1/1 [==============================] - 0s 275ms/step\n",
      "1/1 [==============================] - 0s 273ms/step\n",
      "1/1 [==============================] - 0s 266ms/step\n",
      "1/1 [==============================] - 0s 270ms/step\n",
      "1/1 [==============================] - 0s 276ms/step\n",
      "1/1 [==============================] - 0s 268ms/step\n",
      "1/1 [==============================] - 0s 276ms/step\n",
      "1/1 [==============================] - 0s 273ms/step\n",
      "1/1 [==============================] - 0s 270ms/step\n",
      "1/1 [==============================] - 0s 272ms/step\n",
      "1/1 [==============================] - 0s 270ms/step\n",
      "1/1 [==============================] - 0s 277ms/step\n",
      "1/1 [==============================] - 0s 275ms/step\n",
      "1/1 [==============================] - 0s 270ms/step\n",
      "1/1 [==============================] - 0s 273ms/step\n",
      "1/1 [==============================] - 0s 273ms/step\n",
      "1/1 [==============================] - 0s 268ms/step\n",
      "1/1 [==============================] - 0s 269ms/step\n",
      "1/1 [==============================] - 0s 274ms/step\n",
      "1/1 [==============================] - 0s 273ms/step\n",
      "1/1 [==============================] - 0s 269ms/step\n",
      "1/1 [==============================] - 0s 272ms/step\n",
      "1/1 [==============================] - 0s 271ms/step\n",
      "1/1 [==============================] - 0s 267ms/step\n",
      "1/1 [==============================] - 0s 272ms/step\n",
      "1/1 [==============================] - 0s 273ms/step\n",
      "1/1 [==============================] - 0s 273ms/step\n",
      "1/1 [==============================] - 0s 272ms/step\n",
      "1/1 [==============================] - 0s 269ms/step\n",
      "1/1 [==============================] - 0s 274ms/step\n",
      "1/1 [==============================] - 0s 276ms/step\n",
      "1/1 [==============================] - 0s 278ms/step\n",
      "1/1 [==============================] - 0s 275ms/step\n",
      "1/1 [==============================] - 0s 274ms/step\n",
      "1/1 [==============================] - 0s 271ms/step\n",
      "1/1 [==============================] - 0s 275ms/step\n",
      "1/1 [==============================] - 0s 273ms/step\n",
      "1/1 [==============================] - 0s 276ms/step\n",
      "1/1 [==============================] - 0s 271ms/step\n",
      "1/1 [==============================] - 0s 278ms/step\n",
      "1/1 [==============================] - 0s 270ms/step\n",
      "1/1 [==============================] - 0s 273ms/step\n",
      "1/1 [==============================] - 0s 270ms/step\n",
      "1/1 [==============================] - 0s 271ms/step\n",
      "1/1 [==============================] - 0s 274ms/step\n",
      "1/1 [==============================] - 0s 275ms/step\n",
      "1/1 [==============================] - 0s 268ms/step\n",
      "1/1 [==============================] - 0s 267ms/step\n",
      "1/1 [==============================] - 0s 271ms/step\n",
      "1/1 [==============================] - 0s 272ms/step\n",
      "1/1 [==============================] - 0s 275ms/step\n",
      "1/1 [==============================] - 0s 270ms/step\n",
      "1/1 [==============================] - 0s 282ms/step\n",
      "1/1 [==============================] - 0s 272ms/step\n",
      "1/1 [==============================] - 0s 278ms/step\n",
      "1/1 [==============================] - 0s 275ms/step\n",
      "1/1 [==============================] - 0s 269ms/step\n",
      "1/1 [==============================] - 0s 274ms/step\n",
      "1/1 [==============================] - 0s 273ms/step\n",
      "1/1 [==============================] - 0s 273ms/step\n",
      "1/1 [==============================] - 0s 269ms/step\n",
      "1/1 [==============================] - 0s 278ms/step\n",
      "1/1 [==============================] - 0s 279ms/step\n",
      "1/1 [==============================] - 0s 270ms/step\n",
      "1/1 [==============================] - 0s 272ms/step\n",
      "1/1 [==============================] - 0s 268ms/step\n",
      "1/1 [==============================] - 0s 276ms/step\n",
      "1/1 [==============================] - 0s 272ms/step\n",
      "1/1 [==============================] - 0s 270ms/step\n",
      "1/1 [==============================] - 0s 274ms/step\n",
      "1/1 [==============================] - 0s 269ms/step\n",
      "1/1 [==============================] - 0s 272ms/step\n",
      "1/1 [==============================] - 0s 271ms/step\n",
      "1/1 [==============================] - 0s 274ms/step\n",
      "1/1 [==============================] - 0s 280ms/step\n",
      "1/1 [==============================] - 0s 276ms/step\n",
      "1/1 [==============================] - 0s 273ms/step\n",
      "1/1 [==============================] - 0s 273ms/step\n"
     ]
    }
   ],
   "source": [
    "results = {}\n",
    "i=0\n",
    "for file in os.listdir(os.path.join('data', 'Forest Recordings')):\n",
    "    filename = os.path.join('data', 'Forest Recordings', file)\n",
    "    \n",
    "    filename, predictions = predict(filename, predictions)\n",
    "    \n",
    "    results[file] = predictions"
   ]
  },
  {
   "cell_type": "code",
   "execution_count": 213,
   "id": "ea02407f",
   "metadata": {
    "scrolled": true
   },
   "outputs": [
    {
     "data": {
      "text/plain": [
       "{'recording_00.mp3': 5,\n",
       " 'recording_01.mp3': 0,\n",
       " 'recording_02.mp3': 0,\n",
       " 'recording_03.mp3': 0,\n",
       " 'recording_04.mp3': 4,\n",
       " 'recording_05.mp3': 0,\n",
       " 'recording_06.mp3': 5,\n",
       " 'recording_07.mp3': 2,\n",
       " 'recording_08.mp3': 25,\n",
       " 'recording_09.mp3': 0,\n",
       " 'recording_10.mp3': 5,\n",
       " 'recording_11.mp3': 3,\n",
       " 'recording_12.mp3': 0,\n",
       " 'recording_13.mp3': 0,\n",
       " 'recording_14.mp3': 0,\n",
       " 'recording_15.mp3': 2,\n",
       " 'recording_16.mp3': 4,\n",
       " 'recording_17.mp3': 3,\n",
       " 'recording_18.mp3': 1,\n",
       " 'recording_19.mp3': 0,\n",
       " 'recording_20.mp3': 0,\n",
       " 'recording_21.mp3': 1,\n",
       " 'recording_22.mp3': 2,\n",
       " 'recording_23.mp3': 5,\n",
       " 'recording_24.mp3': 0,\n",
       " 'recording_25.mp3': 0,\n",
       " 'recording_26.mp3': 2,\n",
       " 'recording_27.mp3': 0,\n",
       " 'recording_28.mp3': 4,\n",
       " 'recording_29.mp3': 0,\n",
       " 'recording_30.mp3': 3,\n",
       " 'recording_31.mp3': 1,\n",
       " 'recording_32.mp3': 2,\n",
       " 'recording_33.mp3': 0,\n",
       " 'recording_34.mp3': 4,\n",
       " 'recording_35.mp3': 0,\n",
       " 'recording_36.mp3': 0,\n",
       " 'recording_37.mp3': 3,\n",
       " 'recording_38.mp3': 1,\n",
       " 'recording_39.mp3': 2,\n",
       " 'recording_40.mp3': 1,\n",
       " 'recording_41.mp3': 0,\n",
       " 'recording_42.mp3': 0,\n",
       " 'recording_43.mp3': 5,\n",
       " 'recording_44.mp3': 1,\n",
       " 'recording_45.mp3': 3,\n",
       " 'recording_46.mp3': 4,\n",
       " 'recording_47.mp3': 4,\n",
       " 'recording_48.mp3': 4,\n",
       " 'recording_49.mp3': 0,\n",
       " 'recording_50.mp3': 0,\n",
       " 'recording_51.mp3': 3,\n",
       " 'recording_52.mp3': 0,\n",
       " 'recording_53.mp3': 0,\n",
       " 'recording_54.mp3': 3,\n",
       " 'recording_55.mp3': 0,\n",
       " 'recording_56.mp3': 4,\n",
       " 'recording_57.mp3': 4,\n",
       " 'recording_58.mp3': 0,\n",
       " 'recording_59.mp3': 4,\n",
       " 'recording_60.mp3': 5,\n",
       " 'recording_61.mp3': 2,\n",
       " 'recording_62.mp3': 0,\n",
       " 'recording_63.mp3': 2,\n",
       " 'recording_64.mp3': 3,\n",
       " 'recording_65.mp3': 4,\n",
       " 'recording_66.mp3': 0,\n",
       " 'recording_67.mp3': 0,\n",
       " 'recording_68.mp3': 1,\n",
       " 'recording_69.mp3': 1,\n",
       " 'recording_70.mp3': 4,\n",
       " 'recording_71.mp3': 5,\n",
       " 'recording_72.mp3': 4,\n",
       " 'recording_73.mp3': 0,\n",
       " 'recording_74.mp3': 0,\n",
       " 'recording_75.mp3': 1,\n",
       " 'recording_76.mp3': 0,\n",
       " 'recording_77.mp3': 3,\n",
       " 'recording_78.mp3': 2,\n",
       " 'recording_79.mp3': 0,\n",
       " 'recording_80.mp3': 1,\n",
       " 'recording_81.mp3': 5,\n",
       " 'recording_82.mp3': 0,\n",
       " 'recording_83.mp3': 0,\n",
       " 'recording_84.mp3': 2,\n",
       " 'recording_85.mp3': 0,\n",
       " 'recording_86.mp3': 4,\n",
       " 'recording_87.mp3': 23,\n",
       " 'recording_88.mp3': 0,\n",
       " 'recording_89.mp3': 3,\n",
       " 'recording_90.mp3': 0,\n",
       " 'recording_91.mp3': 0,\n",
       " 'recording_92.mp3': 0,\n",
       " 'recording_93.mp3': 5,\n",
       " 'recording_94.mp3': 3,\n",
       " 'recording_95.mp3': 5,\n",
       " 'recording_96.mp3': 1,\n",
       " 'recording_97.mp3': 4,\n",
       " 'recording_98.mp3': 22,\n",
       " 'recording_99.mp3': 5}"
      ]
     },
     "execution_count": 213,
     "metadata": {},
     "output_type": "execute_result"
    }
   ],
   "source": [
    "results"
   ]
  },
  {
   "cell_type": "markdown",
   "id": "288eea6a",
   "metadata": {},
   "source": [
    "# 8. Exporting Results"
   ]
  },
  {
   "cell_type": "code",
   "execution_count": 214,
   "id": "9b0b823b",
   "metadata": {},
   "outputs": [],
   "source": [
    "import csv"
   ]
  },
  {
   "cell_type": "code",
   "execution_count": 216,
   "id": "8f0ef24e",
   "metadata": {},
   "outputs": [],
   "source": [
    "with open('results.csv', 'w', newline='') as f:\n",
    "    writer = csv.writer(f, delimiter=',')\n",
    "    writer.writerow(['recording', 'capuchin_calls'])\n",
    "    for key, value in results.items():\n",
    "        writer.writerow([key, value])"
   ]
  }
 ],
 "metadata": {
  "kernelspec": {
   "display_name": "Python 3 (ipykernel)",
   "language": "python",
   "name": "python3"
  },
  "language_info": {
   "codemirror_mode": {
    "name": "ipython",
    "version": 3
   },
   "file_extension": ".py",
   "mimetype": "text/x-python",
   "name": "python",
   "nbconvert_exporter": "python",
   "pygments_lexer": "ipython3",
   "version": "3.9.12"
  }
 },
 "nbformat": 4,
 "nbformat_minor": 5
}
